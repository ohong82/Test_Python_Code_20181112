{
  "nbformat": 4,
  "nbformat_minor": 0,
  "metadata": {
    "colab": {
      "name": "Analytics with Python_1.ipynb",
      "version": "0.3.2",
      "provenance": [],
      "collapsed_sections": [],
      "include_colab_link": true
    },
    "kernelspec": {
      "name": "python3",
      "display_name": "Python 3"
    }
  },
  "cells": [
    {
      "cell_type": "markdown",
      "metadata": {
        "id": "view-in-github",
        "colab_type": "text"
      },
      "source": [
        "<a href=\"https://colab.research.google.com/github/ohong82/Test_Python_Code_20181112/blob/master/Analytics_with_Python_1.ipynb\" target=\"_parent\"><img src=\"https://colab.research.google.com/assets/colab-badge.svg\" alt=\"Open In Colab\"/></a>"
      ]
    },
    {
      "metadata": {
        "id": "Rr5A-NArqxP1",
        "colab_type": "code",
        "outputId": "04495334-1507-4fb2-9485-7e9984460e55",
        "colab": {
          "base_uri": "https://localhost:8080/",
          "height": 179
        }
      },
      "cell_type": "code",
      "source": [
        "x=9\n",
        "print(\"Output #4: {0}\".format(x))\n",
        "print(\"Output #5: {0}\".format(3*4))\n",
        "print(\"Output #6: {0}\".format(int(8.3)/int(2.7)))\n",
        "\n",
        "print(\"\\n\")\n",
        "print(\"Check #6-1: {0}\".format(int(8.3)))\n",
        "print(\"Check #6-2: {0}\".format(int(2.7)))\n",
        "print(\"Check #6-3: {0}\".format(int(-1.7)))\n",
        "print(\"Check #6-4: {0}\".format(int(-1.3)))"
      ],
      "execution_count": 0,
      "outputs": [
        {
          "output_type": "stream",
          "text": [
            "Output #4: 9\n",
            "Output #5: 12\n",
            "Output #6: 4.0\n",
            "\n",
            "\n",
            "Check #6-1: 8\n",
            "Check #6-2: 2\n",
            "Check #6-3: -1\n",
            "Check #6-4: -1\n"
          ],
          "name": "stdout"
        }
      ]
    },
    {
      "metadata": {
        "id": "d850FNw9rn_2",
        "colab_type": "code",
        "outputId": "0506d38a-69c9-429e-96e2-ab552221fdac",
        "colab": {
          "base_uri": "https://localhost:8080/",
          "height": 143
        }
      },
      "cell_type": "code",
      "source": [
        "print(\"Output #7: {0:.3f}\".format(8.3/2.7))\n",
        "y = 2.5 * 4.9\n",
        "print(\"Output #8: {0:.10f}\".format(y))\n",
        "r = 8/float(3)\n",
        "print(\"Output #9: {0:.2f}\".format(r))\n",
        "print(\"Output #10: {0:.4f}\".format(8.0/3))\n",
        "\n",
        "print(\"\\n\")\n",
        "print(\"Check #10-1: {0:.4f}\".format(8/3))"
      ],
      "execution_count": 0,
      "outputs": [
        {
          "output_type": "stream",
          "text": [
            "Output #7: 3.074\n",
            "Output #8: 12.2500000000\n",
            "Output #9: 2.67\n",
            "Output #10: 2.6667\n",
            "\n",
            "\n",
            "Check #10-1: 2.6667\n"
          ],
          "name": "stdout"
        }
      ]
    },
    {
      "metadata": {
        "id": "mWUd8v3_t3HW",
        "colab_type": "code",
        "colab": {}
      },
      "cell_type": "code",
      "source": [
        "# from math import exp, log, sqrt 를 빼먹으면.... 오류남\n",
        "#print(\"Output #11: {0:.4f}\".format(exp(3)))\n",
        "#print(\"Output #12: {0:.2f}\".format(log(4)))\n",
        "#print(\"Output #13: {0:.1f}\".format(sqrt(81)))\n",
        "\n"
      ],
      "execution_count": 0,
      "outputs": []
    },
    {
      "metadata": {
        "id": "hgeBZwmqv7V4",
        "colab_type": "code",
        "outputId": "58320d8c-9177-428b-a5b1-e4be8f5e1931",
        "colab": {
          "base_uri": "https://localhost:8080/",
          "height": 71
        }
      },
      "cell_type": "code",
      "source": [
        "from math import exp, log, sqrt\n",
        "\n",
        "print(\"Output #11: {0:.4f}\".format(exp(3)))\n",
        "print(\"Output #12: {0:.2f}\".format(log(4)))\n",
        "print(\"Output #13: {0:.1f}\".format(sqrt(81)))"
      ],
      "execution_count": 0,
      "outputs": [
        {
          "output_type": "stream",
          "text": [
            "Output #11: 20.0855\n",
            "Output #12: 1.39\n",
            "Output #13: 9.0\n"
          ],
          "name": "stdout"
        }
      ]
    },
    {
      "metadata": {
        "id": "EfMOtHqNv9pG",
        "colab_type": "code",
        "outputId": "2a194f22-dcdb-488c-bae4-d6fdc3758e34",
        "colab": {
          "base_uri": "https://localhost:8080/",
          "height": 89
        }
      },
      "cell_type": "code",
      "source": [
        "string1 = \"My deliverable is due in May\"\n",
        "string1_list1 = string1.split()\n",
        "string1_list2 = string1.split(\" \", 2)\n",
        "print(\"Output #21: {0}\".format(string1_list1))\n",
        "print(\"Output #22: First Piece:{0} Second Piece:{1} Third Piece:{2}\"\\\n",
        "      .format(string1_list2[0], string1_list2[1], string1_list2[2]))\n",
        "\n",
        "string2 = \"Your,deliverable,is,due,in,June\"\n",
        "string2_list = string2.split(',')\n",
        "print(\"Output #23: {0}\".format(string2_list))\n",
        "print(\"Output #24: {0} {1} {2}\".format(string2_list[1], string2_list[5],\\\n",
        "                                       string2_list[-1]))"
      ],
      "execution_count": 0,
      "outputs": [
        {
          "output_type": "stream",
          "text": [
            "Output #21: ['My', 'deliverable', 'is', 'due', 'in', 'May']\n",
            "Output #22: First Piece:My Second Piece:deliverable Third Piece:is due in May\n",
            "Output #23: ['Your', 'deliverable', 'is', 'due', 'in', 'June']\n",
            "Output #24: deliverable June June\n"
          ],
          "name": "stdout"
        }
      ]
    },
    {
      "metadata": {
        "id": "hnhyC1-uOzwt",
        "colab_type": "code",
        "outputId": "7e27490e-92ee-4912-9b99-495922ed28bb",
        "colab": {
          "base_uri": "https://localhost:8080/",
          "height": 35
        }
      },
      "cell_type": "code",
      "source": [
        "print(\"Output #25: {0}\".format(' '.join(string2_list)))"
      ],
      "execution_count": 0,
      "outputs": [
        {
          "output_type": "stream",
          "text": [
            "Output #25: Your deliverable is due in June\n"
          ],
          "name": "stdout"
        }
      ]
    },
    {
      "metadata": {
        "id": "tr6im8ZSSEnR",
        "colab_type": "code",
        "outputId": "b78ecb96-49a4-4d64-8b85-e532c2a9fe19",
        "colab": {
          "base_uri": "https://localhost:8080/",
          "height": 125
        }
      },
      "cell_type": "code",
      "source": [
        "string3 = \" Remove  unwanted characters   from this string.\\t\\t   \\n\"\n",
        "print(\"Output #26: string3: {0:s}\".format(string3))\n",
        "string3_lstrip = string3.lstrip()\n",
        "print(\"Output #27: lstrip: {0:s}\".format(string3_lstrip))\n",
        "string3_rstrip = string3.rstrip()\n",
        "print(\"Output #28: rstrip: {0:s}\".format(string3_rstrip))\n",
        "string3_strip = string3.strip()\n",
        "print(\"Output #29: strip: {0:s}\".format(string3_strip))"
      ],
      "execution_count": 0,
      "outputs": [
        {
          "output_type": "stream",
          "text": [
            "Output #26: string3:  Remove  unwanted characters   from this string.\t\t   \n",
            "\n",
            "Output #27: lstrip: Remove  unwanted characters   from this string.\t\t   \n",
            "\n",
            "Output #28: rstrip:  Remove  unwanted characters   from this string.\n",
            "Output #29: strip: Remove  unwanted characters   from this string.\n"
          ],
          "name": "stdout"
        }
      ]
    },
    {
      "metadata": {
        "id": "6ICTXEAjgDyl",
        "colab_type": "code",
        "outputId": "9b8e9ca5-711c-4168-b9ee-803aa1260977",
        "colab": {
          "base_uri": "https://localhost:8080/",
          "height": 53
        }
      },
      "cell_type": "code",
      "source": [
        "string4 = \"$$Here's another string that hasunwanted characters.__---++\"\n",
        "print(\"Output #30: {0:s}\".format(string4))\n",
        "string4 = \"$$The unwanted characters have been removed.__---++\"\n",
        "string4_strip = string4.strip('$_-+')\n",
        "print(\"Output #31: {0:s}\".format(string4_strip))\n",
        "\n",
        "## __--- 은 좀더 연구가 필요할듯..."
      ],
      "execution_count": 0,
      "outputs": [
        {
          "output_type": "stream",
          "text": [
            "Output #30: $$Here's another string that hasunwanted characters.__---++\n",
            "Output #31: The unwanted characters have been removed.\n"
          ],
          "name": "stdout"
        }
      ]
    },
    {
      "metadata": {
        "id": "yBaB871pjI9R",
        "colab_type": "code",
        "outputId": "46f0df8c-d73d-480f-f4e7-174c244d5763",
        "colab": {
          "base_uri": "https://localhost:8080/",
          "height": 53
        }
      },
      "cell_type": "code",
      "source": [
        "## replace\n",
        "\n",
        "string5 = \"Let's replace the spaces in this sentence with ohter characters.\"\n",
        "string5_replace = string5.replace(\" \", \"!@!\")\n",
        "print(\"Output #32 (with !@!): {0:s}\".format(string5_replace))\n",
        "string5_replace = string5.replace(\" \",\",\")\n",
        "print(\"Output #33 (with commas): {0:s}\".format(string5_replace))"
      ],
      "execution_count": 0,
      "outputs": [
        {
          "output_type": "stream",
          "text": [
            "Output #32 (with !@!): Let's!@!replace!@!the!@!spaces!@!in!@!this!@!sentence!@!with!@!ohter!@!characters.\n",
            "Output #33 (with commas): Let's,replace,the,spaces,in,this,sentence,with,ohter,characters.\n"
          ],
          "name": "stdout"
        }
      ]
    },
    {
      "metadata": {
        "id": "1Pj1Z15fOA9P",
        "colab_type": "code",
        "outputId": "0c931bc3-1f4c-4e34-8442-232973bdd32a",
        "colab": {
          "base_uri": "https://localhost:8080/",
          "height": 215
        }
      },
      "cell_type": "code",
      "source": [
        "## lower, upper, capitalize\n",
        "\n",
        "string6 = \"Here's WHAT Happens WHEN You Use lower.\"\n",
        "print(\"Output #34: {0:s}\".format(string6.lower()))\n",
        "string7 = \"Here's what Happens when You Use UPPER\"\n",
        "print(\"Output #35: {0:s}\".format(string7.upper()))\n",
        "string5 = \"here's WHAT Happens WHEN you use Capitalize.\"\n",
        "print(\"Output #36: {0:s}\".format(string5.capitalize()))\n",
        "string5_list = string5.split()\n",
        "print(\"Output #37 (on each word):\")\n",
        "for word in string5_list:\n",
        "  print(\"{0:s}\".format(word.capitalize()))"
      ],
      "execution_count": 0,
      "outputs": [
        {
          "output_type": "stream",
          "text": [
            "Output #34: here's what happens when you use lower.\n",
            "Output #35: HERE'S WHAT HAPPENS WHEN YOU USE UPPER\n",
            "Output #36: Here's what happens when you use capitalize.\n",
            "Output #37 (on each word):\n",
            "Here's\n",
            "What\n",
            "Happens\n",
            "When\n",
            "You\n",
            "Use\n",
            "Capitalize.\n"
          ],
          "name": "stdout"
        }
      ]
    },
    {
      "metadata": {
        "id": "vumzT3a7ffVm",
        "colab_type": "code",
        "outputId": "582afc7b-125e-4cb3-be46-78627900050b",
        "colab": {
          "base_uri": "https://localhost:8080/",
          "height": 35
        }
      },
      "cell_type": "code",
      "source": [
        "import re\n",
        "\n",
        "# 문자열 내에 등장하는 패턴의 횟수를 세기\n",
        "string = \"The quick brown fox jumps over the lazy dog\"\n",
        "string_list = string.split()\n",
        "pattern = re.compile(r\"The\", re.I)\n",
        "count = 0\n",
        "for word in string_list:\n",
        "  if pattern.search(word):\n",
        "    count+= 1\n",
        "print(\"Output #38: {0:d}\".format(count))"
      ],
      "execution_count": 0,
      "outputs": [
        {
          "output_type": "stream",
          "text": [
            "Output #38: 2\n"
          ],
          "name": "stdout"
        }
      ]
    },
    {
      "metadata": {
        "id": "v0928vBpA29I",
        "colab_type": "code",
        "outputId": "f2fb56b1-e8b0-4829-8d1c-f30c82e684c1",
        "colab": {
          "base_uri": "https://localhost:8080/",
          "height": 71
        }
      },
      "cell_type": "code",
      "source": [
        "\n",
        "# 문자열 내에서 발견된 패털 출력하기\n",
        "string = \"The quick brown fox jumps over the lazy dog.\"\n",
        "string_list = string.split()\n",
        "pattern = re.compile(r\"(?P<match_word>The)\", re.I)\n",
        "print(\"Output #39:\")\n",
        "for word in string_list:\n",
        "  if pattern.search(word):\n",
        "    print(\"{:s}\".format(pattern.search(word).group('match_word')))"
      ],
      "execution_count": 0,
      "outputs": [
        {
          "output_type": "stream",
          "text": [
            "Output #39:\n",
            "The\n",
            "the\n"
          ],
          "name": "stdout"
        }
      ]
    },
    {
      "metadata": {
        "id": "bFKzqsD8BdtM",
        "colab_type": "code",
        "outputId": "edf4c084-4a09-43cb-badd-19a86e771482",
        "colab": {
          "base_uri": "https://localhost:8080/",
          "height": 35
        }
      },
      "cell_type": "code",
      "source": [
        "# 문자열 내 \"The\"를 \"a\"로 대체하기\n",
        "string = \"The quick brown fox jumps over the lazy dog.\"\n",
        "string_to_find = r\"The\"\n",
        "pattern = re.compile(string_to_find, re.I)\n",
        "print(\"Output #40: {:s}\".format(pattern.sub(\"a\",string)))"
      ],
      "execution_count": 0,
      "outputs": [
        {
          "output_type": "stream",
          "text": [
            "Output #40: a quick brown fox jumps over a lazy dog.\n"
          ],
          "name": "stdout"
        }
      ]
    },
    {
      "metadata": {
        "id": "DpEhW05RJbnf",
        "colab_type": "code",
        "outputId": "9e1f4b98-579e-4eb3-9ef5-e0ac772ced3d",
        "colab": {
          "base_uri": "https://localhost:8080/",
          "height": 107
        }
      },
      "cell_type": "code",
      "source": [
        "#!/usr/bin/env python3\n",
        "from math import exp, log, sqrt\n",
        "import re\n",
        "from datetime import date, time, datetime, timedelta\n",
        "\n",
        "# 오늘 날짜와 년, 월, 일 요소들을 출력하기\n",
        "today = date.today()\n",
        "print(\"Output #41: today: {0!s}\".format(today))\n",
        "print(\"Output #42: {0!s}\".format(today.year))\n",
        "print(\"Output #43: {0!s}\".format(today.month))\n",
        "print(\"Output #44: {0!s}\".format(today.day))\n",
        "current_datetime = datetime.today()\n",
        "print(\"Output #45: {0!s}\".format(current_datetime))\n"
      ],
      "execution_count": 0,
      "outputs": [
        {
          "output_type": "stream",
          "text": [
            "Output #41: today: 2018-11-09\n",
            "Output #42: 2018\n",
            "Output #43: 11\n",
            "Output #44: 9\n",
            "Output #45: 2018-11-09 04:40:50.648030\n"
          ],
          "name": "stdout"
        }
      ]
    },
    {
      "metadata": {
        "id": "MaACOT0z5-Zy",
        "colab_type": "code",
        "outputId": "2ecd9a58-71f3-4a60-ea10-59deb6f30344",
        "colab": {
          "base_uri": "https://localhost:8080/",
          "height": 53
        }
      },
      "cell_type": "code",
      "source": [
        "# timedelta 함수를 이용하여 새로운 날짜 계산하기\n",
        "one_day= timedelta(days=-1)\n",
        "yesterday = today + one_day\n",
        "print(\"Output #46: yesterday: {0!s}\".format(yesterday))\n",
        "eight_hours = timedelta(hours=-8)\n",
        "print(\"Output #47: {0!s} {1!s}\".format(eight_hours.days, eight_hours.seconds))"
      ],
      "execution_count": 0,
      "outputs": [
        {
          "output_type": "stream",
          "text": [
            "Output #46: yesterday: 2018-11-08\n",
            "Output #47: -1 57600\n"
          ],
          "name": "stdout"
        }
      ]
    },
    {
      "metadata": {
        "id": "F_GkIZrKehnj",
        "colab_type": "code",
        "outputId": "749bc235-b375-494c-d1fc-6ea767fe7417",
        "colab": {
          "base_uri": "https://localhost:8080/",
          "height": 53
        }
      },
      "cell_type": "code",
      "source": [
        "# 두 날짜 사이의 날짜 차이를 계산하기\n",
        "date_diff = today - yesterday\n",
        "print(\"Output #48: {0!s}\".format(date_diff))\n",
        "print(\"Output #49: {0!s}\".format(str(date_diff).split()[0]))"
      ],
      "execution_count": 0,
      "outputs": [
        {
          "output_type": "stream",
          "text": [
            "Output #48: 1 day, 0:00:00\n",
            "Output #49: 1\n"
          ],
          "name": "stdout"
        }
      ]
    },
    {
      "metadata": {
        "id": "faAzhH3xfbS3",
        "colab_type": "code",
        "outputId": "77d50f57-b50a-48fb-e7d1-6d0943bc76b7",
        "colab": {
          "base_uri": "https://localhost:8080/",
          "height": 89
        }
      },
      "cell_type": "code",
      "source": [
        "# date 객체를 특정 형식의 문자열로 만들기\n",
        "print(\"Output #50: {:s}\".format(today.strftime('%m/%d/%Y')))\n",
        "print(\"Output #51: {:s}\".format(today.strftime('%b %d, %Y')))\n",
        "print(\"Output #52: {:s}\".format(today.strftime('%Y-%m-%d')))\n",
        "print(\"Output #53: {:s}\".format(today.strftime('%B %d, %Y')))"
      ],
      "execution_count": 0,
      "outputs": [
        {
          "output_type": "stream",
          "text": [
            "Output #50: 11/09/2018\n",
            "Output #51: Nov 09, 2018\n",
            "Output #52: 2018-11-09\n",
            "Output #53: November 09, 2018\n"
          ],
          "name": "stdout"
        }
      ]
    },
    {
      "metadata": {
        "id": "cmVqcD7qgFSo",
        "colab_type": "code",
        "outputId": "1252e459-b8d5-47ee-aace-a5351bfdec84",
        "colab": {
          "base_uri": "https://localhost:8080/",
          "height": 89
        }
      },
      "cell_type": "code",
      "source": [
        "# 날짜 문자열로부터 특정 형식의 datetime 객체를 생성하기\n",
        "date1 = today.strftime('%m/%d/%Y')\n",
        "date2 = today.strftime('%b %d, %Y')\n",
        "date3 = today.strftime('%Y-%m-%d')\n",
        "date4 = today.strftime('%B %d, %Y')\n",
        "\n",
        "# 다른 date 형식을 지닌 4가지 문자열에 기반한\n",
        "# 각각 2종류의 datetime객체들과 date객체들\n",
        "print(\"Output #54: {!s}\".format(datetime.strptime(date1, '%m/%d/%Y')))\n",
        "print(\"Output #55: {!s}\".format(datetime.strptime(date2, '%b %d, %Y')))\n",
        "\n",
        "#날짜 부분만 출력하기\n",
        "print(\"Output #56: {!s}\".format(datetime.date(datetime.strptime(date3, '%Y-%m-%d'))))\n",
        "print(\"Output #57: {!s}\".format(datetime.date(datetime.strptime(date4, '%B %d, %Y'))))"
      ],
      "execution_count": 0,
      "outputs": [
        {
          "output_type": "stream",
          "text": [
            "Output #54: 2018-11-09 00:00:00\n",
            "Output #55: 2018-11-09 00:00:00\n",
            "Output #56: 2018-11-09\n",
            "Output #57: 2018-11-09\n"
          ],
          "name": "stdout"
        }
      ]
    },
    {
      "metadata": {
        "id": "EWOX3LsAhj0o",
        "colab_type": "code",
        "outputId": "264ff738-682e-4cf9-e6ae-7dd572c35c97",
        "colab": {
          "base_uri": "https://localhost:8080/",
          "height": 179
        }
      },
      "cell_type": "code",
      "source": [
        "# 리스트를 만들기 위해 대괄호를 사용한다.\n",
        "# len() 함수를 통해 리스트 내 원소의 수를 센다.\n",
        "# max() 함수와 min() 함수는 최대/최소 값을 찾는다.\n",
        "# count() 함수는 리스트 내 특정 값이 등장한 횟수를 센다.\n",
        "a_list = [1,2,3,4,5,6,7,8]\n",
        "print(\"Output #58: {}\".format(a_list))\n",
        "print(\"Output #59: a_list has {} elements.\".format(len(a_list)))\n",
        "print(\"Output #60: the maximum value in a_list is {}.\".format(max(a_list)))\n",
        "print(\"Output #61: the minimum value in a_list is {}.\".format(min(a_list)))\n",
        "another_list = ['printer',5,['star','circle',9,5],5]\n",
        "print(\"Output #62: {}\".format(another_list))\n",
        "print(\"Output #63: another_list alos has {} elements.\".format(len(another_list)))\n",
        "print(\"Output #64: 5 is in another_list {} time.\".format(another_list.count(5)))\n",
        "\n",
        "# check\n",
        "print(\"Check 1: {}\".format(a_list[~3]))\n",
        "print(\"Check 2: {}\".format(a_list[-3]))"
      ],
      "execution_count": 0,
      "outputs": [
        {
          "output_type": "stream",
          "text": [
            "Output #58: [1, 2, 3, 4, 5, 6, 7, 8]\n",
            "Output #59: a_list has 8 elements.\n",
            "Output #60: the maximum value in a_list is 8.\n",
            "Output #61: the minimum value in a_list is 1.\n",
            "Output #62: ['printer', 5, ['star', 'circle', 9, 5], 5]\n",
            "Output #63: another_list alos has 4 elements.\n",
            "Output #64: 5 is in another_list 2 time.\n",
            "Check 1: 5\n",
            "Check 2: 6\n"
          ],
          "name": "stdout"
        }
      ]
    },
    {
      "metadata": {
        "id": "Lf4rk5XcwhC8",
        "colab_type": "code",
        "outputId": "1bb6f81b-42f6-4b7b-a2a4-0eec794b6ea7",
        "colab": {
          "base_uri": "https://localhost:8080/",
          "height": 161
        }
      },
      "cell_type": "code",
      "source": [
        "# 리스트내 특정 원소에 접근하려면 인덱스 이용하기\n",
        "# [0]은 첫 번째 원소이다. [-1]은 마지막 원소이다.\n",
        "print(\"Output #65: {}\".format(a_list[0]))\n",
        "print(\"Output #66: {}\".format(a_list[1]))\n",
        "print(\"Output #67: {}\".format(a_list[2]))\n",
        "print(\"Output #68: {}\".format(a_list[-1]))\n",
        "print(\"Output #69: {}\".format(a_list[-2]))\n",
        "print(\"Output #70: {}\".format(a_list[-3]))\n",
        "print(\"Output #71: {}\".format(a_list[2]))\n",
        "print(\"Output #72: {}\".format(another_list[-2]))\n"
      ],
      "execution_count": 0,
      "outputs": [
        {
          "output_type": "stream",
          "text": [
            "Output #65: 1\n",
            "Output #66: 2\n",
            "Output #67: 3\n",
            "Output #68: 8\n",
            "Output #69: 7\n",
            "Output #70: 6\n",
            "Output #71: 3\n",
            "Output #72: ['star', 'circle', 9, 5]\n"
          ],
          "name": "stdout"
        }
      ]
    },
    {
      "metadata": {
        "id": "ilU7IUFBx3Jn",
        "colab_type": "code",
        "outputId": "b8e7dcbf-b6ef-4ce1-d85c-92f46ab24206",
        "colab": {
          "base_uri": "https://localhost:8080/",
          "height": 89
        }
      },
      "cell_type": "code",
      "source": [
        "# 리스트 분할을 사용하여 리스트 원소들의 부분집합 만들기\n",
        "# 맨 앞부터 분할하는 경우, 최초 인덱스를 생성한다.\n",
        "# 맨 뒤까지 리스트를 분할하는 경우, 마지막 인덱스틑 생략한다.\n",
        "print(\"Output #73: {}\".format(a_list[0:2]))\n",
        "print(\"Output #74: {}\".format(another_list[:2]))\n",
        "print(\"Output #75: {}\".format(a_list[1:3]))\n",
        "print(\"Output #76: {}\".format(another_list[1:]))"
      ],
      "execution_count": 0,
      "outputs": [
        {
          "output_type": "stream",
          "text": [
            "Output #73: [1, 2]\n",
            "Output #74: ['printer', 5]\n",
            "Output #75: [2, 3]\n",
            "Output #76: [5, ['star', 'circle', 9, 5], 5]\n"
          ],
          "name": "stdout"
        }
      ]
    },
    {
      "metadata": {
        "id": "r0NID2gfyt-s",
        "colab_type": "code",
        "outputId": "7424a89a-7e2a-450d-a3cc-b0b5e1e4ae2e",
        "colab": {
          "base_uri": "https://localhost:8080/",
          "height": 89
        }
      },
      "cell_type": "code",
      "source": [
        "# [:]를 이용하여 리스트 복사하기\n",
        "a_new_list = a_list[:]\n",
        "print(\"Output #77: {}\".format(a_new_list))\n",
        "\n",
        "check_list = a_new_list\n",
        "check_list_pop = check_list.pop()\n",
        "\n",
        "print(\"Check 1: {}\".format(a_new_list))\n",
        "print(\"Check 1: {}\".format(check_list))\n",
        "print(\"Check 1: {}\".format(a_list))"
      ],
      "execution_count": 0,
      "outputs": [
        {
          "output_type": "stream",
          "text": [
            "Output #77: [1, 2, 3, 4, 5, 6, 7, 8]\n",
            "Check 1: [1, 2, 3, 4, 5, 6, 7]\n",
            "Check 1: [1, 2, 3, 4, 5, 6, 7]\n",
            "Check 1: [1, 2, 3, 4, 5, 6, 7, 8]\n"
          ],
          "name": "stdout"
        }
      ]
    },
    {
      "metadata": {
        "id": "pWXx58cU3wH_",
        "colab_type": "code",
        "outputId": "093508f4-6d65-448e-fb71-7020d14a3136",
        "colab": {
          "base_uri": "https://localhost:8080/",
          "height": 35
        }
      },
      "cell_type": "code",
      "source": [
        "# + 연산자를 이용하여 2개 이상의 리스트를 병합하기\n",
        "a_longer_list = a_list + another_list\n",
        "print(\"Output #78: {}\".format(a_longer_list))"
      ],
      "execution_count": 0,
      "outputs": [
        {
          "output_type": "stream",
          "text": [
            "Output #78: [1, 2, 3, 4, 5, 6, 7, 8, 'printer', 5, ['star', 'circle', 9, 5], 5]\n"
          ],
          "name": "stdout"
        }
      ]
    },
    {
      "metadata": {
        "id": "ArQg4kUz4Awr",
        "colab_type": "code",
        "outputId": "0e19b987-cb53-493b-9ef4-84fc60e993de",
        "colab": {
          "base_uri": "https://localhost:8080/",
          "height": 89
        }
      },
      "cell_type": "code",
      "source": [
        "# in과 not in 을 이용하여 특정 원소의 리스트 내 포함 여부를 확인하기\n",
        "a = 2 in a_list\n",
        "print(\"Output #79: {}\".format(a))\n",
        "if 2 in a_list:\n",
        "  print(\"Output #80: 2 is in {}.\".format(a_list))\n",
        "b = 9 not in a_list\n",
        "print(\"Output #81: {}\".format(b))\n",
        "if 9 not in a_list:\n",
        "  print(\"Output #82: 9 is not in {}.\".format(a_list))"
      ],
      "execution_count": 0,
      "outputs": [
        {
          "output_type": "stream",
          "text": [
            "Output #79: True\n",
            "Output #80: 2 is in [1, 2, 3, 4, 5, 6, 7, 8].\n",
            "Output #81: True\n",
            "Output #82: 9 is not in [1, 2, 3, 4, 5, 6, 7, 8].\n"
          ],
          "name": "stdout"
        }
      ]
    },
    {
      "metadata": {
        "id": "WdW1sOQR-Loj",
        "colab_type": "code",
        "outputId": "50e7469c-4828-483d-a952-a62befc7dcc8",
        "colab": {
          "base_uri": "https://localhost:8080/",
          "height": 71
        }
      },
      "cell_type": "code",
      "source": [
        "# append() 함수를 이용하여 리스트의 마지막에 원소를 추가하기\n",
        "# remove() 함수를 이용하여 리스트 내 특정 원소를 제거하기\n",
        "# pop() 함수를 이용하여 리스트의 마지막 원소를 제거하기\n",
        "a_list.append(5)\n",
        "a_list.append(6)\n",
        "a_list.append(7)\n",
        "print(\"Output #83: {}\".format(a_list))\n",
        "a_list.remove(5)\n",
        "print(\"Output #84: {}\".format(a_list))\n",
        "a_list.pop()\n",
        "a_list.pop()\n",
        "print(\"Output #85: {}\".format(a_list))\n"
      ],
      "execution_count": 0,
      "outputs": [
        {
          "output_type": "stream",
          "text": [
            "Output #83: [1, 2, 3, 4, 5, 6, 7, 8, 5, 6, 7]\n",
            "Output #84: [1, 2, 3, 4, 6, 7, 8, 5, 6, 7]\n",
            "Output #85: [1, 2, 3, 4, 6, 7, 8, 5]\n"
          ],
          "name": "stdout"
        }
      ]
    },
    {
      "metadata": {
        "id": "EBnI_IBkCfGz",
        "colab_type": "code",
        "outputId": "821cc108-ad7a-4ab3-e6ad-82cd598f4292",
        "colab": {
          "base_uri": "https://localhost:8080/",
          "height": 53
        }
      },
      "cell_type": "code",
      "source": [
        "# reverse()함수를 이용하여 리스트 반전하기\n",
        "# 해당리스트 내에서(인플레이스) 변경이 일어나므로\n",
        "# 기존 리스트를 변경하지 않고 반전하려면 먼저 ㅅ본을 만들어둬야 한다.\n",
        "a_list.reverse()\n",
        "print(\"Output #86: {}\".format(a_list))\n",
        "a_list.reverse()\n",
        "print(\"Output #87: {}\".format(a_list))"
      ],
      "execution_count": 0,
      "outputs": [
        {
          "output_type": "stream",
          "text": [
            "Output #86: [5, 8, 7, 6, 4, 3, 2, 1]\n",
            "Output #87: [1, 2, 3, 4, 6, 7, 8, 5]\n"
          ],
          "name": "stdout"
        }
      ]
    },
    {
      "metadata": {
        "id": "qEMvuW8NEf6b",
        "colab_type": "code",
        "outputId": "ddbfd850-a24f-4788-f47c-c75e0089a6f4",
        "colab": {
          "base_uri": "https://localhost:8080/",
          "height": 71
        }
      },
      "cell_type": "code",
      "source": [
        "# sort() 한수를 이용하여 리스트를 인플레이스로 정렬하기\n",
        "# 이는 리스트가 변경된다는 것을 의미한다. (인플레이스!!!)\n",
        "# 기존 리스트의 변경 없이 리스트를 정렬하려면, 우선 사본을 만든다.\n",
        "unordered_list = [3,5,1,7,2,8,4,9,0,6]\n",
        "print(\"Output #88: {}\".format(unordered_list))\n",
        "list_copy = unordered_list[:]\n",
        "list_copy.sort()\n",
        "print(\"Output #89: {}\".format(list_copy))\n",
        "print(\"Output #90: {}\".format(unordered_list))"
      ],
      "execution_count": 0,
      "outputs": [
        {
          "output_type": "stream",
          "text": [
            "Output #88: [3, 5, 1, 7, 2, 8, 4, 9, 0, 6]\n",
            "Output #89: [0, 1, 2, 3, 4, 5, 6, 7, 8, 9]\n",
            "Output #90: [3, 5, 1, 7, 2, 8, 4, 9, 0, 6]\n"
          ],
          "name": "stdout"
        }
      ]
    },
    {
      "metadata": {
        "id": "lj3yXaDB1NNc",
        "colab_type": "code",
        "outputId": "d97de4bc-89ba-494d-a294-61eee8a0e93f",
        "colab": {
          "base_uri": "https://localhost:8080/",
          "height": 35
        }
      },
      "cell_type": "code",
      "source": [
        "# sorted() 함ㅅ를 이용하여 리스트들의 특정 위치에 따라 리스트 정렬하기\n",
        "my_lists = [[1,2,3,4],[4,3,2,1],[2,4,1,3]]\n",
        "my_lists_sorted_by_index_3 = sorted(my_lists, key=lambda index_value: index_value[0])\n",
        "print(\"Output #91: {}\".format(my_lists_sorted_by_index_3))"
      ],
      "execution_count": 0,
      "outputs": [
        {
          "output_type": "stream",
          "text": [
            "Output #91: [[1, 2, 3, 4], [2, 4, 1, 3], [4, 3, 2, 1]]\n"
          ],
          "name": "stdout"
        }
      ]
    },
    {
      "metadata": {
        "id": "37ubM8ny1tf-",
        "colab_type": "code",
        "outputId": "10a7b81c-06f5-4e33-f45e-763d26489de1",
        "colab": {
          "base_uri": "https://localhost:8080/",
          "height": 55
        }
      },
      "cell_type": "code",
      "source": [
        "#!/usr/bin/env python3\n",
        "from math import exp, log, sqrt\n",
        "import re\n",
        "from datetime import date, time, datetime, timedelta\n",
        "from operator import itemgetter\n",
        "\n",
        "# itemgetter() 함수를 이용하여 2개 인덱스 위치에 따라 리스트 정렬하기\n",
        "my_lists = [[123,2,2,444],[22,6,6,444],[354,4,4,678],[236,5,5,678],[578,1,1,290],[461,1,1,290]]\n",
        "my_lists_sorted_by_index_3_and_0 = sorted(my_lists, key=itemgetter(3,0))\n",
        "print(\"Output #92: {}\".format(my_lists_sorted_by_index_3_and_0))"
      ],
      "execution_count": 0,
      "outputs": [
        {
          "output_type": "stream",
          "text": [
            "Output #92: [[461, 1, 1, 290], [578, 1, 1, 290], [22, 6, 6, 444], [123, 2, 2, 444], [236, 5, 5, 678], [354, 4, 4, 678]]\n"
          ],
          "name": "stdout"
        }
      ]
    },
    {
      "metadata": {
        "id": "jzF2NwHD_gRL",
        "colab_type": "code",
        "outputId": "0c010cf8-688b-42c5-cf94-8c133b047858",
        "colab": {
          "base_uri": "https://localhost:8080/",
          "height": 89
        }
      },
      "cell_type": "code",
      "source": [
        "# 괄호를 사용하여 튜플을 생성하기.\n",
        "my_tuple = ('x','y','z')\n",
        "print(\"Output #93: {}\".format(my_tuple))\n",
        "print(\"Output #94: my_tuple has {} elements\".format(len(my_tuple)))\n",
        "print(\"Output #95: {}\".format(my_tuple[1]))\n",
        "longer_tuple = my_tuple + my_tuple\n",
        "print(\"Output #96: {}\".format(longer_tuple))"
      ],
      "execution_count": 0,
      "outputs": [
        {
          "output_type": "stream",
          "text": [
            "Output #93: ('x', 'y', 'z')\n",
            "Output #94: my_tuple has 3 elements\n",
            "Output #95: y\n",
            "Output #96: ('x', 'y', 'z', 'x', 'y', 'z')\n"
          ],
          "name": "stdout"
        }
      ]
    },
    {
      "metadata": {
        "id": "LQYzHa52AMYL",
        "colab_type": "code",
        "outputId": "85f98b39-2b18-41e3-a5d1-805ee60e0421",
        "colab": {
          "base_uri": "https://localhost:8080/",
          "height": 71
        }
      },
      "cell_type": "code",
      "source": [
        "# 할당 연산자(=)의 왼편에 튜플을 풀기.\n",
        "one, two, three = my_tuple\n",
        "print(\"Output #97: {0} {1} {2}\".format(one, two, three))\n",
        "var1 = 'red'\n",
        "var2 = 'robin'\n",
        "print(\"Output #98: {} {}\".format(var1, var2))\n",
        "# 변수 간 값 교환하기\n",
        "var1, var2 = var2, var1\n",
        "print(\"Output #99: {} {}\".format(var1,var2))"
      ],
      "execution_count": 0,
      "outputs": [
        {
          "output_type": "stream",
          "text": [
            "Output #97: x y z\n",
            "Output #98: red robin\n",
            "Output #99: robin red\n"
          ],
          "name": "stdout"
        }
      ]
    },
    {
      "metadata": {
        "id": "TsfX3sLOAyRc",
        "colab_type": "code",
        "outputId": "bd14205f-eecc-4b34-9b6a-70264d0d8764",
        "colab": {
          "base_uri": "https://localhost:8080/",
          "height": 53
        }
      },
      "cell_type": "code",
      "source": [
        "# 투플을 리스트로, 리스트를 튜플로 변환하기\n",
        "my_list = [1,2,3]\n",
        "my_tuple = ('x','y','z')\n",
        "print(\"Output #100: {}\".format(tuple(my_list)))\n",
        "print(\"Output #101: {}\".format(list(my_tuple)))"
      ],
      "execution_count": 0,
      "outputs": [
        {
          "output_type": "stream",
          "text": [
            "Output #100: (1, 2, 3)\n",
            "Output #101: ['x', 'y', 'z']\n"
          ],
          "name": "stdout"
        }
      ]
    },
    {
      "metadata": {
        "id": "TQuCiwFnBTED",
        "colab_type": "code",
        "outputId": "e78b50bd-00ae-408a-c765-98720f5b0c72",
        "colab": {
          "base_uri": "https://localhost:8080/",
          "height": 107
        }
      },
      "cell_type": "code",
      "source": [
        "# 중괄호를 이용하여 딕셔너리 생성하기\n",
        "# 각 쌍의 키와 값 사이에 콜론을 사용한다.\n",
        "# len() 함수는 딕셔너리에 있는 키-값 쌍의 수를 센다.\n",
        "\n",
        "empty_dict={}\n",
        "a_dict = {'one':1,'two':2,'three':3}\n",
        "print(\"Output #102: {}\".format(a_dict))\n",
        "print(\"Output #103: a_dict has {!s} elements\".format(len(a_dict)))\n",
        "another_dict = {'x':'printer','y':5, 'z':['star','circle',9]}\n",
        "print(\"Output #104: {}\".format(another_dict))\n",
        "print(\"Output #104: {}\".format(another_dict['z'][1]))\n",
        "print(\"Output #105: another_dict also has {!s} elements\".format(len(another_dict)))\n"
      ],
      "execution_count": 0,
      "outputs": [
        {
          "output_type": "stream",
          "text": [
            "Output #102: {'one': 1, 'two': 2, 'three': 3}\n",
            "Output #103: a_dict has 3 elements\n",
            "Output #104: {'x': 'printer', 'y': 5, 'z': ['star', 'circle', 9]}\n",
            "Output #104: circle\n",
            "Output #105: another_dict also has 3 elements\n"
          ],
          "name": "stdout"
        }
      ]
    },
    {
      "metadata": {
        "id": "KHHeltOpEAfp",
        "colab_type": "code",
        "outputId": "60f63cca-2b5f-44da-c4e8-bf1345627b92",
        "colab": {
          "base_uri": "https://localhost:8080/",
          "height": 53
        }
      },
      "cell_type": "code",
      "source": [
        "# 키를 사용하여 딕셔너리 내 특정 값에 접근하기\n",
        "print(\"Output #106: {}\".format(a_dict['two']))\n",
        "print(\"Output #107: {}\".format(another_dict['z']))"
      ],
      "execution_count": 0,
      "outputs": [
        {
          "output_type": "stream",
          "text": [
            "Output #106: 2\n",
            "Output #107: ['star', 'circle', 9]\n"
          ],
          "name": "stdout"
        }
      ]
    },
    {
      "metadata": {
        "id": "-uvywFBMI2B-",
        "colab_type": "code",
        "outputId": "02b9604f-6fff-4854-82d9-479ae20536bc",
        "colab": {
          "base_uri": "https://localhost:8080/",
          "height": 35
        }
      },
      "cell_type": "code",
      "source": [
        "# copy() 함수를 이용하여 딕셔너리 사본 만들기\n",
        "a_new_dict = a_dict.copy()\n",
        "print(\"Output #108: {}\".format(a_new_dict))\n"
      ],
      "execution_count": 0,
      "outputs": [
        {
          "output_type": "stream",
          "text": [
            "Output #108: {'one': 1, 'two': 2, 'three': 3}\n"
          ],
          "name": "stdout"
        }
      ]
    },
    {
      "metadata": {
        "id": "-OZu3FcrJCw2",
        "colab_type": "code",
        "outputId": "d14167db-fbcf-4317-fe25-0e4b18dc217a",
        "colab": {
          "base_uri": "https://localhost:8080/",
          "height": 71
        }
      },
      "cell_type": "code",
      "source": [
        "# keys(), values(), items()를 사용하여\n",
        "# 딕셔너리의 키, 값, 키-값 쌍에 접근하기\n",
        "\n",
        "print(\"Output #109: {}\".format(a_dict.keys()))\n",
        "print(\"Output #111: {}\".format(a_dict.values()))\n",
        "print(\"Output #112: {}\".format(a_dict.items()))"
      ],
      "execution_count": 0,
      "outputs": [
        {
          "output_type": "stream",
          "text": [
            "Output #109: dict_keys(['one', 'two', 'three'])\n",
            "Output #111: dict_values([1, 2, 3])\n",
            "Output #112: dict_items([('one', 1), ('two', 2), ('three', 3)])\n"
          ],
          "name": "stdout"
        }
      ]
    },
    {
      "metadata": {
        "id": "RpFrExC-JZXW",
        "colab_type": "code",
        "outputId": "7e48be2c-aec4-4989-bb92-47f081e2a51f",
        "colab": {
          "base_uri": "https://localhost:8080/",
          "height": 107
        }
      },
      "cell_type": "code",
      "source": [
        "if 'y' in another_dict:\n",
        "  print(\"Output #114: y is a key in another_dict: {}.\".format(another_dict.keys()))\n",
        "if 'c' not in another_dict:\n",
        "  print(\"Output #115: c is not a key in another_dict: {}.\".format(another_dict.keys()))\n",
        "print(\"Output #116: {!s}\".format(a_dict.get('three')))\n",
        "print(\"Output #117: {!s}\".format(a_dict.get('four')))\n",
        "print(\"Output #118: {!s}\".format(a_dict.get('four', 'Not in dict')))"
      ],
      "execution_count": 0,
      "outputs": [
        {
          "output_type": "stream",
          "text": [
            "Output #114: y is a key in another_dict: dict_keys(['x', 'y', 'z']).\n",
            "Output #115: c is not a key in another_dict: dict_keys(['x', 'y', 'z']).\n",
            "Output #116: 3\n",
            "Output #117: None\n",
            "Output #118: Not in dict\n"
          ],
          "name": "stdout"
        }
      ]
    },
    {
      "metadata": {
        "id": "WoYp2spKTxwF",
        "colab_type": "code",
        "outputId": "0e2758c7-403a-49b0-8ef6-566f34ac0c9c",
        "colab": {
          "base_uri": "https://localhost:8080/",
          "height": 107
        }
      },
      "cell_type": "code",
      "source": [
        "# sorted() 한수를 이용하여 딗너리 정렬하기\n",
        "# 원본 딕셔너리를 수정하지 않고 정렬하려면 먼저 사본을 만든다.\n",
        "print(\"Output #119:{}\".format(a_dict))\n",
        "dict_copy = a_dict.copy()\n",
        "ordered_dict1 = sorted(dict_copy.items(), key=lambda item: item[0])\n",
        "print(\"Output #120 (order by keys): {}\".format(ordered_dict1))\n",
        "ordered_dict2 = sorted(dict_copy.items(), key=lambda item: item[1])\n",
        "print(\"Output #121 (order by values): {}\"# .format(ordered_dict2))\n",
        "ordered_dict3 = sorted(dict_copy.items(), key=lambda x: x[1], reverse=True)\n",
        "print(\"Output #122 (order by values, descending): {}\".format(ordered_dict3))\n",
        "ordered_dict4 = sorted(dict_copy.items(), key=lambda x: x[1], reverse=False)\n",
        "print(\"Output #123 (order by values, ascending): {}\".format(ordered_dict4))"
      ],
      "execution_count": 0,
      "outputs": [
        {
          "output_type": "stream",
          "text": [
            "Output #119:{'one': 1, 'two': 2, 'three': 3}\n",
            "Output #120 (order by keys): [('one', 1), ('three', 3), ('two', 2)]\n",
            "Output #121 (order by values): [('one', 1), ('two', 2), ('three', 3)]\n",
            "Output #122 (order by values, descending): [('three', 3), ('two', 2), ('one', 1)]\n",
            "Output #123 (order by values, ascending): [('one', 1), ('two', 2), ('three', 3)]\n"
          ],
          "name": "stdout"
        }
      ]
    },
    {
      "metadata": {
        "id": "Z6vP7F7JxP1O",
        "colab_type": "code",
        "outputId": "5e81815c-663f-4b77-d0a7-897f9a5de995",
        "colab": {
          "base_uri": "https://localhost:8080/",
          "height": 35
        }
      },
      "cell_type": "code",
      "source": [
        "# if-else문\n",
        "x=5\n",
        "if x > 4 or x != 9:\n",
        "  print(\"Output #124: {}\".format(x))\n",
        "else:\n",
        "  print(\"Output #125: x is not greater than 4\")\n",
        "  "
      ],
      "execution_count": 0,
      "outputs": [
        {
          "output_type": "stream",
          "text": [
            "Output #124: 5\n"
          ],
          "name": "stdout"
        }
      ]
    },
    {
      "metadata": {
        "id": "FlxcbUDrVGgH",
        "colab_type": "code",
        "outputId": "4b3f4893-1d1c-43b9-ba52-65867ec33a17",
        "colab": {
          "base_uri": "https://localhost:8080/",
          "height": 35
        }
      },
      "cell_type": "code",
      "source": [
        "# if-elif-else 문\n",
        "if x > 6:\n",
        "  print(\"Output #125: x is greater than six\")\n",
        "elif x > 4 and x == 5:\n",
        "  print(\"Output #125: {}\".format(x*x))\n",
        "else:\n",
        "  print(\"Output #125: x is not greater than 4\")\n",
        "  "
      ],
      "execution_count": 0,
      "outputs": [
        {
          "output_type": "stream",
          "text": [
            "Output #125: 25\n"
          ],
          "name": "stdout"
        }
      ]
    },
    {
      "metadata": {
        "id": "uTvK6PoqqgUb",
        "colab_type": "code",
        "outputId": "244c3967-302e-4473-a254-5277ea0f01b2",
        "colab": {
          "base_uri": "https://localhost:8080/",
          "height": 593
        }
      },
      "cell_type": "code",
      "source": [
        "y=['Jan','Feb','Mar','Apr','May','Jun','Jul','Aug','Sep','Oct','Nov','Dec']\n",
        "z=['Annie','Betty','Claire','Daphne','Ellie','Franchesca','Greta','Holly','Isabel','Jenny']\n",
        "\n",
        "print(\"Output #126:\")\n",
        "for month in y:\n",
        "  print(\"{!s}\".format(month))\n",
        "  \n",
        "print(\"Output #127: (index value: name in list)\")\n",
        "for i in range(len(z)):\n",
        "  print(\"{0!s}: {1:s}\".format(i, z[i]))\n",
        "  \n",
        "print(\"Output #128: (access elements in y with z's index values)\")\n",
        "for j in range(len(z)):\n",
        "  if y[j].startswith('J'):\n",
        "    print(\"{!s}\".format(y[j]))\n",
        "    \n",
        "print(\"Output #129:\")\n",
        "for key, value in another_dict.items():\n",
        "  print(\"{0:s}, {1}\".format(key, value))"
      ],
      "execution_count": 0,
      "outputs": [
        {
          "output_type": "stream",
          "text": [
            "Output #126:\n",
            "Jan\n",
            "Feb\n",
            "Mar\n",
            "Apr\n",
            "May\n",
            "Jun\n",
            "Jul\n",
            "Aug\n",
            "Sep\n",
            "Oct\n",
            "Nov\n",
            "Dec\n",
            "Output #127: (index value: name in list)\n",
            "0: Annie\n",
            "1: Betty\n",
            "2: Claire\n",
            "3: Daphne\n",
            "4: Ellie\n",
            "5: Franchesca\n",
            "6: Greta\n",
            "7: Holly\n",
            "8: Isabel\n",
            "9: Jenny\n",
            "Output #128: (access elements in y with z's index values)\n",
            "Jan\n",
            "Jun\n",
            "Jul\n",
            "Output #129:\n",
            "x, printer\n",
            "y, 5\n",
            "z, ['star', 'circle', 9]\n"
          ],
          "name": "stdout"
        }
      ]
    },
    {
      "metadata": {
        "id": "_rQbD3rfvUob",
        "colab_type": "code",
        "outputId": "ae2a0f63-61d2-49dc-ce89-121d89b29afa",
        "colab": {
          "base_uri": "https://localhost:8080/",
          "height": 35
        }
      },
      "cell_type": "code",
      "source": [
        "# 리스트 축약을 이용하여 특정 행을 고르기\n",
        "my_data = [[1,2,3],[4,5,6],[5,8,9]]\n",
        "rows_to_keep = [row for row in my_data if row[0]>5]\n",
        "print(\"Output #130 (list comprehension): {}.\".format(rows_to_keep))"
      ],
      "execution_count": 0,
      "outputs": [
        {
          "output_type": "stream",
          "text": [
            "Output #130 (list comprehension): [].\n"
          ],
          "name": "stdout"
        }
      ]
    },
    {
      "metadata": {
        "id": "xTkGuttvCLfN",
        "colab_type": "code",
        "outputId": "564c22a8-b9fc-43d2-938a-e683a00f58b6",
        "colab": {
          "base_uri": "https://localhost:8080/",
          "height": 71
        }
      },
      "cell_type": "code",
      "source": [
        "# 집합 축약을 이용하여 리스트의 고유한 튜플 집합을 고르기\n",
        "my_data = [(1,2,3),(4,5,6),(7,8,9),(7,8,9)]\n",
        "print(\"Check (original data): {}\".format(my_data))\n",
        "set_of_tuples1 = {x for x in my_data}\n",
        "print(\"Output #131 (set comprehension): {}\".format(set_of_tuples1))\n",
        "set_of_tuples2 = set(my_data)\n",
        "print(\"Output #132 (set function): {}\".format(set_of_tuples2))"
      ],
      "execution_count": 0,
      "outputs": [
        {
          "output_type": "stream",
          "text": [
            "Check (original data): [(1, 2, 3), (4, 5, 6), (7, 8, 9), (7, 8, 9)]\n",
            "Output #131 (set comprehension): {(4, 5, 6), (7, 8, 9), (1, 2, 3)}\n",
            "Output #132 (set function): {(4, 5, 6), (7, 8, 9), (1, 2, 3)}\n"
          ],
          "name": "stdout"
        }
      ]
    },
    {
      "metadata": {
        "id": "7wgKlHPtNN2T",
        "colab_type": "code",
        "outputId": "a4b40504-de84-4573-8127-4fecee30a200",
        "colab": {
          "base_uri": "https://localhost:8080/",
          "height": 35
        }
      },
      "cell_type": "code",
      "source": [
        "# 딕셔너리 축약을 이용하여 특정 키-값 쌍들을 고르기\n",
        "my_dictionary = {'customer1':7, 'customer2':9, 'customer3':11}\n",
        "my_results = {key : value for key, value in my_dictionary.items() if value > 10}\n",
        "print(\"Output #133 (dictionary comprehension): {}\".format(my_results))"
      ],
      "execution_count": 0,
      "outputs": [
        {
          "output_type": "stream",
          "text": [
            "Output #133 (dictionary comprehension): {'customer3': 11}\n"
          ],
          "name": "stdout"
        }
      ]
    },
    {
      "metadata": {
        "id": "8j08kg1Gm58R",
        "colab_type": "code",
        "outputId": "1818025e-9306-41d5-871e-46402c7c12ba",
        "colab": {
          "base_uri": "https://localhost:8080/",
          "height": 35
        }
      },
      "cell_type": "code",
      "source": [
        "# 숫자 시퀀스의 평균 계산하기\n",
        "def getMean(numericValues):\n",
        "  return sum(numericValues)/len(numericValues) if len(numericValues) > 0 else float('nan')\n",
        "\n",
        "my_list = [2,4,2,4,6,6,8,8]\n",
        "print(\"Output #135 (mean): {!s}\".format(getMean(my_list)))"
      ],
      "execution_count": 0,
      "outputs": [
        {
          "output_type": "stream",
          "text": [
            "Output #135 (mean): 5.0\n"
          ],
          "name": "stdout"
        }
      ]
    },
    {
      "metadata": {
        "id": "82PrYpNy7KmG",
        "colab_type": "code",
        "outputId": "2a59ce21-b2e7-42f6-9ba0-46556ecf7789",
        "colab": {
          "base_uri": "https://localhost:8080/",
          "height": 35
        }
      },
      "cell_type": "code",
      "source": [
        "import numpy\n",
        "print(\"Output #136 (mean): {!s}\".format(numpy.mean(my_list)))"
      ],
      "execution_count": 0,
      "outputs": [
        {
          "output_type": "stream",
          "text": [
            "Output #136 (mean): 5.0\n"
          ],
          "name": "stdout"
        }
      ]
    },
    {
      "metadata": {
        "id": "fFkmlv4n7fyU",
        "colab_type": "code",
        "outputId": "b3059509-2511-4acc-c1d3-bbd2a8e7e7e7",
        "colab": {
          "base_uri": "https://localhost:8080/",
          "height": 53
        }
      },
      "cell_type": "code",
      "source": [
        "# 숫자 시퀀스의 평균계산하기\n",
        "def getMean(numericValues):\n",
        "  return sum(numericValues)/len(numericValues)\n",
        "\n",
        "my_list2=[]\n",
        "\n",
        "# 짧은 버전\n",
        "try:\n",
        "  print(\"Output #137: {}\".format(getMean(my_list2)))\n",
        "except ZeroDivisionError as detail:\n",
        "  print(\"Output #137 (Error): {}\".format(float('nan')))\n",
        "  print(\"Output #137 (Error): {}\".format(detail))"
      ],
      "execution_count": 0,
      "outputs": [
        {
          "output_type": "stream",
          "text": [
            "Output #137 (Error): nan\n",
            "Output #137 (Error): division by zero\n"
          ],
          "name": "stdout"
        }
      ]
    },
    {
      "metadata": {
        "id": "pWdaBvo-JYM5",
        "colab_type": "code",
        "outputId": "bbf61246-a06e-46a7-9ff7-082e1aa909fd",
        "colab": {
          "base_uri": "https://localhost:8080/",
          "height": 53
        }
      },
      "cell_type": "code",
      "source": [
        "# 긴 버전\n",
        "try:\n",
        "  result = getMean(my_list)\n",
        "except ZeroDivisionError as detail:\n",
        "  print(\"Output #138 (Error): {}\".format(float('nan')))\n",
        "  print(\"Output #138 (Error): {}\".format(detail))\n",
        "else:\n",
        "  print(\"Output #138 (The mean is): {}\".format(result))\n",
        "finally:\n",
        "  print(\"Output #138 (Finally): The finally block is executed every time\")"
      ],
      "execution_count": 0,
      "outputs": [
        {
          "output_type": "stream",
          "text": [
            "Output #138 (The mean is): 5.0\n",
            "Output #138 (Finally): The finally block is executed every time\n"
          ],
          "name": "stdout"
        }
      ]
    },
    {
      "metadata": {
        "id": "YWV4p7IRKU-6",
        "colab_type": "code",
        "outputId": "621ead52-31ad-4d9e-aa1e-1ef24c0f12e1",
        "colab": {
          "base_uri": "https://localhost:8080/",
          "height": 143
        }
      },
      "cell_type": "code",
      "source": [
        "#!/usr/bin/env python3\n",
        "from math import exp,log,sqrt\n",
        "import re\n",
        "from datetime import date, time, datetime, timedelta\n",
        "from operator import itemgetter\n",
        "\n",
        "# 파일읽기\n",
        "# 하나의 텍스트 파일 읽기\n",
        "print(\"Output #139: \")\n",
        "input_file=\"file_to_read.txt\" #sys.argv[1]\n",
        "filereader = open(input_file, 'r')\n",
        "for row in filereader:\n",
        "  print(row.strip())\n",
        "filereader.close()"
      ],
      "execution_count": 0,
      "outputs": [
        {
          "output_type": "stream",
          "text": [
            "Output #139: \n",
            "I'm\n",
            "already\n",
            "much\n",
            "better\n",
            "at\n",
            "Python\n"
          ],
          "name": "stdout"
        }
      ]
    },
    {
      "metadata": {
        "id": "qjFyzOjjOxh0",
        "colab_type": "code",
        "outputId": "ba00e201-374c-4a8d-9480-1b427452c37e",
        "colab": {
          "base_uri": "https://localhost:8080/",
          "height": 143
        }
      },
      "cell_type": "code",
      "source": [
        "# 새로운 파일 읽기 무법\n",
        "input_file = \"file_to_read.txt\" #sys.argv[1]\n",
        "print(\"Output #140:\")\n",
        "with open(input_file, 'r', newline='') as filereader:\n",
        "  for row in filereader:\n",
        "    print(\"{}\".format(row.strip()))"
      ],
      "execution_count": 0,
      "outputs": [
        {
          "output_type": "stream",
          "text": [
            "Output #140:\n",
            "I'm\n",
            "already\n",
            "much\n",
            "better\n",
            "at\n",
            "Python\n"
          ],
          "name": "stdout"
        }
      ]
    },
    {
      "metadata": {
        "id": "Fgj3Ip_QmQ9r",
        "colab_type": "code",
        "colab": {}
      },
      "cell_type": "code",
      "source": [
        "! rm -rf ./sample_data"
      ],
      "execution_count": 0,
      "outputs": []
    },
    {
      "metadata": {
        "id": "QBkdBmy_miCZ",
        "colab_type": "code",
        "colab": {}
      },
      "cell_type": "code",
      "source": [
        "#!/usr/bin/env python3\n",
        "from math import exp, log, sqrt\n",
        "import re\n",
        "from datetime import date, time, datetime, timedelta\n",
        "from operator import itemgetter\n",
        "import sys\n",
        "import glob\n",
        "import os\n",
        "\n"
      ],
      "execution_count": 0,
      "outputs": []
    },
    {
      "metadata": {
        "id": "ldLnNu4Inhpt",
        "colab_type": "code",
        "outputId": "1373bb53-c9a1-437d-8b59-221c9b63c9d5",
        "colab": {
          "base_uri": "https://localhost:8080/",
          "height": 323
        }
      },
      "cell_type": "code",
      "source": [
        "# 다수의 파일 읽기\n",
        "print(\"Output #141:\")\n",
        "inputPath = \"./\" # sys.argv[1]\n",
        "for input_file in glob.glob(os.path.join(inputPath,'*.txt')):\n",
        "  with open(input_file, 'r', newline='') as filereader:\n",
        "    for row in filereader:\n",
        "      print(\"{}\".format(row.strip()))"
      ],
      "execution_count": 0,
      "outputs": [
        {
          "output_type": "stream",
          "text": [
            "Output #141:\n",
            "a\tb\tc\td\te\tf\tg\th\ti\tj\n",
            "0,1,2,3,4,5,6,7,8,9\n",
            "I'm\n",
            "already\n",
            "much\n",
            "better\n",
            "at\n",
            "Python\n",
            "This\n",
            "text\n",
            "comes\n",
            "from\n",
            "a\n",
            "different\n",
            "text\n",
            "file.\n"
          ],
          "name": "stdout"
        }
      ]
    },
    {
      "metadata": {
        "id": "vgDMbCkloCBq",
        "colab_type": "code",
        "outputId": "68de9399-efa5-4f9c-f828-20e46d1678e3",
        "colab": {
          "base_uri": "https://localhost:8080/",
          "height": 35
        }
      },
      "cell_type": "code",
      "source": [
        "# 파일 작성하기\n",
        "# 하나의 텍스트 파일 작성하기\n",
        "my_letters = ['a','b','c','d','e','f','g','h','i','j']\n",
        "max_index = len(my_letters)\n",
        "output_file = \"write_to_file.txt\" # sys.argv[1]\n",
        "filewriter = open(output_file,'w')\n",
        "for index_value in range(len(my_letters)):\n",
        "  if index_value < (max_index - 1):\n",
        "    filewriter.write(my_letters[index_value]+'\\t')\n",
        "  else:\n",
        "    filewriter.write(my_letters[index_value]+'\\n')\n",
        "filewriter.close()\n",
        "print(\"Output #142: Output written to file\")  "
      ],
      "execution_count": 0,
      "outputs": [
        {
          "output_type": "stream",
          "text": [
            "Output #142: Output written to file\n"
          ],
          "name": "stdout"
        }
      ]
    },
    {
      "metadata": {
        "id": "IElCMDPfuuni",
        "colab_type": "code",
        "outputId": "ddb872fe-9ab4-4471-9e5d-b6cdf5220e77",
        "colab": {
          "base_uri": "https://localhost:8080/",
          "height": 35
        }
      },
      "cell_type": "code",
      "source": [
        "# CSV파일 작성하기\n",
        "my_numbers = [0,1,2,3,4,5,6,7,8,9]\n",
        "max_index = len(my_numbers)\n",
        "output_file=\"write_to_file.txt\" # sys.argv[1]\n",
        "filewriter = open(output_file, 'a')\n",
        "for index_value in range(len(my_numbers)):\n",
        "  if index_value < (max_index - 1):\n",
        "    filewriter.write(str(my_numbers[index_value])+',')\n",
        "  else:\n",
        "    filewriter.write(str(my_numbers[index_value])+'\\n')\n",
        "filewriter.close()\n",
        "print(\"Output #143: Output appended to file\")"
      ],
      "execution_count": 0,
      "outputs": [
        {
          "output_type": "stream",
          "text": [
            "Output #143: Output appended to file\n"
          ],
          "name": "stdout"
        }
      ]
    }
  ]
}